{
 "cells": [
  {
   "cell_type": "code",
   "execution_count": 1,
   "id": "3264aa7c-2041-40ad-9feb-d3dbbc72f5c8",
   "metadata": {},
   "outputs": [
    {
     "name": "stdout",
     "output_type": "stream",
     "text": [
      "Requirement already satisfied: requests in /Applications/anaconda3/envs/dev/lib/python3.10/site-packages (2.32.3)\n",
      "Requirement already satisfied: charset-normalizer<4,>=2 in /Applications/anaconda3/envs/dev/lib/python3.10/site-packages (from requests) (3.3.2)\n",
      "Requirement already satisfied: idna<4,>=2.5 in /Applications/anaconda3/envs/dev/lib/python3.10/site-packages (from requests) (3.7)\n",
      "Requirement already satisfied: urllib3<3,>=1.21.1 in /Applications/anaconda3/envs/dev/lib/python3.10/site-packages (from requests) (2.2.3)\n",
      "Requirement already satisfied: certifi>=2017.4.17 in /Applications/anaconda3/envs/dev/lib/python3.10/site-packages (from requests) (2024.8.30)\n",
      "Note: you may need to restart the kernel to use updated packages.\n"
     ]
    }
   ],
   "source": [
    "pip install requests\n"
   ]
  },
  {
   "cell_type": "code",
   "execution_count": 2,
   "id": "a19d98d7-bd88-4ad4-a392-dd36927bc126",
   "metadata": {},
   "outputs": [
    {
     "name": "stdout",
     "output_type": "stream",
     "text": [
      "Access Token: BQBeCkZC3-ZDDV_J4i8aGbRO4Je8jGhZYY4aDtgIogWt_fO3GiyP-rop6O6Myc3uuhERMShn5rVqRV0kkJJlAYJoUj1kYyioPFyKCGNuikwec_Ts5jaDINSY6SJP0Fxo2QgIj1Yy2Gc\n"
     ]
    }
   ],
   "source": [
    "import requests\n",
    "import base64\n",
    "\n",
    "# Replace these with your actual credentials from the Spotify dashboard\n",
    "client_id = \"564f4712bb6a41bbbc42d2d666d76326\"\n",
    "client_secret = \"723077099e514f558a1744c8c6889550\"\n",
    "\n",
    "# Encode credentials\n",
    "auth_string = f\"{client_id}:{client_secret}\"\n",
    "b64_auth_string = base64.b64encode(auth_string.encode()).decode()\n",
    "\n",
    "# Prepare request\n",
    "token_url = \"https://accounts.spotify.com/api/token\"\n",
    "headers = {\n",
    "    \"Authorization\": f\"Basic {b64_auth_string}\",\n",
    "}\n",
    "data = {\n",
    "    \"grant_type\": \"client_credentials\"\n",
    "}\n",
    "\n",
    "# Send request\n",
    "response = requests.post(token_url, headers=headers, data=data)\n",
    "access_token = response.json()[\"access_token\"]\n",
    "\n",
    "print(\"Access Token:\", access_token)\n"
   ]
  },
  {
   "cell_type": "code",
   "execution_count": null,
   "id": "2fa40494-ce87-4c66-b948-e8b5a8133703",
   "metadata": {},
   "outputs": [],
   "source": []
  }
 ],
 "metadata": {
  "kernelspec": {
   "display_name": "Python 3 (ipykernel)",
   "language": "python",
   "name": "python3"
  },
  "language_info": {
   "codemirror_mode": {
    "name": "ipython",
    "version": 3
   },
   "file_extension": ".py",
   "mimetype": "text/x-python",
   "name": "python",
   "nbconvert_exporter": "python",
   "pygments_lexer": "ipython3",
   "version": "3.10.15"
  }
 },
 "nbformat": 4,
 "nbformat_minor": 5
}
