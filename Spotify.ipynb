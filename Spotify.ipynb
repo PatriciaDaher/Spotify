{
 "cells": [
  {
   "cell_type": "code",
   "execution_count": 1,
   "id": "3264aa7c-2041-40ad-9feb-d3dbbc72f5c8",
   "metadata": {},
   "outputs": [],
   "source": [
    "import pandas as pd\n",
    "from sklearn.preprocessing import MultiLabelBinarizer, StandardScaler\n",
    "from sklearn.cluster import KMeans\n",
    "from sklearn.decomposition import PCA\n",
    "import matplotlib.pyplot as plt\n",
    "\n",
    "# Load dataset\n",
    "df = pd.read_csv(\"/Users/sadebeckles/Desktop/Class_requirements/Homework/Spotify/Spotify_data.csv\")\n",
    "\n"
   ]
  },
  {
   "cell_type": "code",
   "execution_count": 2,
   "id": "a19d98d7-bd88-4ad4-a392-dd36927bc126",
   "metadata": {},
   "outputs": [],
   "source": [
    "columns = [\n",
    "    'Age', 'Gender', 'premium_sub_willingness',\n",
    "    'spotify_listening_device',  # ✅ Add this!\n",
    "    'music_Influencial_mood', 'music_lis_frequency', 'music_expl_method',\n",
    "    'music_recc_rating', 'spotify_usage_period', 'spotify_subscription_plan',\n",
    "    'preffered_premium_plan', 'preferred_listening_content', 'fav_music_genre',\n",
    "    'music_time_slot', 'pod_lis_frequency', 'fav_pod_genre', 'preffered_pod_format',\n",
    "    'pod_host_preference', 'preffered_pod_duration', 'pod_variety_satisfaction'\n",
    "]\n",
    "\n",
    "df_cluster = df[columns].copy().fillna(\"None\")\n"
   ]
  },
  {
   "cell_type": "code",
   "execution_count": 3,
   "id": "2fa40494-ce87-4c66-b948-e8b5a8133703",
   "metadata": {},
   "outputs": [],
   "source": [
    "multi_label_cols = ['spotify_listening_device','music_Influencial_mood', 'music_lis_frequency', 'music_expl_method']\n",
    "mlb = MultiLabelBinarizer()\n",
    "\n",
    "for col in multi_label_cols:\n",
    "    df_cluster[col] = df_cluster[col].str.split(\", \")\n",
    "    encoded = pd.DataFrame(mlb.fit_transform(df_cluster[col]), columns=[f\"{col}_{cls}\" for cls in mlb.classes_])\n",
    "    df_cluster = pd.concat([df_cluster.drop(columns=[col]), encoded], axis=1)\n"
   ]
  },
  {
   "cell_type": "code",
   "execution_count": 4,
   "id": "77f3d3b5-8c41-4c6c-92ee-c258d3dbf3a0",
   "metadata": {},
   "outputs": [
    {
     "data": {
      "text/html": [
       "<div>\n",
       "<style scoped>\n",
       "    .dataframe tbody tr th:only-of-type {\n",
       "        vertical-align: middle;\n",
       "    }\n",
       "\n",
       "    .dataframe tbody tr th {\n",
       "        vertical-align: top;\n",
       "    }\n",
       "\n",
       "    .dataframe thead th {\n",
       "        text-align: right;\n",
       "    }\n",
       "</style>\n",
       "<table border=\"1\" class=\"dataframe\">\n",
       "  <thead>\n",
       "    <tr style=\"text-align: right;\">\n",
       "      <th></th>\n",
       "      <th>Age</th>\n",
       "      <th>Gender</th>\n",
       "      <th>premium_sub_willingness</th>\n",
       "      <th>music_recc_rating</th>\n",
       "      <th>spotify_usage_period</th>\n",
       "      <th>spotify_subscription_plan</th>\n",
       "     